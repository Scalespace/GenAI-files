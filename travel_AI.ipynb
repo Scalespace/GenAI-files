{
 "cells": [
  {
   "cell_type": "code",
   "execution_count": 14,
   "metadata": {},
   "outputs": [
    {
     "data": {
      "text/plain": [
       "True"
      ]
     },
     "execution_count": 14,
     "metadata": {},
     "output_type": "execute_result"
    }
   ],
   "source": [
    "import openai\n",
    "import os\n",
    "import dotenv\n",
    "from dotenv import load_dotenv\n",
    "\n",
    "load_dotenv()"
   ]
  },
  {
   "cell_type": "code",
   "execution_count": 15,
   "metadata": {},
   "outputs": [],
   "source": [
    "openai.api_key = os.getenv('API_KEY')"
   ]
  },
  {
   "cell_type": "code",
   "execution_count": 16,
   "metadata": {},
   "outputs": [],
   "source": [
    "# Set the model and chatbot's name\n",
    "\n",
    "model_name = 'gpt-3.5-turbo'\n",
    "\n",
    "chatbot_name = 'Travel Itenary'\n",
    "\n",
    "# Initialize conversation history\n",
    "\n",
    "conversation = []"
   ]
  },
  {
   "cell_type": "code",
   "execution_count": 17,
   "metadata": {},
   "outputs": [],
   "source": [
    "def run_chatbot(user_input):\n",
    "    conversation.append({'role': 'user', 'content': user_input})\n",
    "    # Create the list of messages for OpenAI API\n",
    "    messages = [{'role': 'system', 'content': '''You are a Question and Answer system.'''}]\n",
    "\n",
    "    messages.extend(conversation)\n",
    "    # Call OpenAI API to generate a response\n",
    "\n",
    "    response = openai.ChatCompletion.create(\n",
    "        model=model_name,\n",
    "        messages=messages,\n",
    "        temperature=0.7\n",
    "    )\n",
    "    # Get the generated reply from the response\n",
    "    reply = response['choices'][0]['message']['content']\n",
    "    conversation.append({'role': 'assistant', 'content': reply})\n",
    "    return reply"
   ]
  },
  {
   "cell_type": "code",
   "execution_count": 18,
   "metadata": {},
   "outputs": [
    {
     "name": "stdout",
     "output_type": "stream",
     "text": [
      "Bot : Here is a suggested travel itinerary for Delhi, along with approximate timings:\n",
      "\n",
      "Day 1:\n",
      "8:00 AM - Start your day with a visit to the iconic Red Fort, which opens at this time.\n",
      "10:00 AM - Head to Jama Masjid, one of the largest mosques in India, located near the Red Fort.\n",
      "12:00 PM - Explore Chandni Chowk, a bustling market in Old Delhi, known for its narrow lanes and street food.\n",
      "2:00 PM - After lunch, visit Raj Ghat, a memorial dedicated to Mahatma Gandhi.\n",
      "3:00 PM - Proceed to Humayun's Tomb, a UNESCO World Heritage Site, known for its stunning Mughal architecture.\n",
      "5:00 PM - Visit India Gate, a war memorial and a popular spot for locals to relax and enjoy the evening.\n",
      "7:00 PM - End your day with a visit to the bustling Connaught Place, where you can shop, dine, or relax at a cafe.\n",
      "\n",
      "Day 2:\n",
      "9:00 AM - Start your day by visiting Qutub Minar, another UNESCO World Heritage Site, known for its impressive tower and historical significance.\n",
      "11:00 AM - Explore the beautiful Lodi Gardens, a peaceful park with historical tombs and lush greenery.\n",
      "1:00 PM - Enjoy a traditional Indian lunch at a local restaurant.\n",
      "2:00 PM - Visit the National Museum, which showcases a vast collection of art, artifacts, and historical exhibits.\n",
      "4:00 PM - Head to Akshardham Temple, a magnificent Hindu temple complex known for its intricate architecture and cultural exhibits.\n",
      "7:00 PM - Watch the sound and light show at Akshardham Temple, which highlights India's rich heritage.\n",
      "9:00 PM - Enjoy dinner at a local restaurant, or explore the vibrant nightlife scene in Delhi.\n",
      "\n",
      "Please note that the timings are approximate and can be adjusted based on your preferences and the opening hours of the attractions. Additionally, it is recommended to check the current COVID-19 guidelines and restrictions before planning your visit.\n"
     ]
    }
   ],
   "source": [
    "while True:\n",
    "    user_input = input(\"User : \")\n",
    "    if user_input == 'goodbye':\n",
    "        break\n",
    "    response = run_chatbot(user_input)\n",
    "    print(f\"Bot : {response}\")"
   ]
  }
 ],
 "metadata": {
  "kernelspec": {
   "display_name": "Python 3",
   "language": "python",
   "name": "python3"
  },
  "language_info": {
   "codemirror_mode": {
    "name": "ipython",
    "version": 3
   },
   "file_extension": ".py",
   "mimetype": "text/x-python",
   "name": "python",
   "nbconvert_exporter": "python",
   "pygments_lexer": "ipython3",
   "version": "3.11.4"
  },
  "orig_nbformat": 4
 },
 "nbformat": 4,
 "nbformat_minor": 2
}
